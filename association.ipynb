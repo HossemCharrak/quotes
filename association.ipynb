{
 "cells": [
  {
   "cell_type": "code",
   "execution_count": 1,
   "metadata": {},
   "outputs": [
    {
     "data": {
      "text/html": [
       "<div>\n",
       "<style scoped>\n",
       "    .dataframe tbody tr th:only-of-type {\n",
       "        vertical-align: middle;\n",
       "    }\n",
       "\n",
       "    .dataframe tbody tr th {\n",
       "        vertical-align: top;\n",
       "    }\n",
       "\n",
       "    .dataframe thead th {\n",
       "        text-align: right;\n",
       "    }\n",
       "</style>\n",
       "<table border=\"1\" class=\"dataframe\">\n",
       "  <thead>\n",
       "    <tr style=\"text-align: right;\">\n",
       "      <th></th>\n",
       "      <th>name</th>\n",
       "      <th>likes</th>\n",
       "    </tr>\n",
       "  </thead>\n",
       "  <tbody>\n",
       "    <tr>\n",
       "      <th>0</th>\n",
       "      <td>User1</td>\n",
       "      <td>[1207, 445, 140, 2259, 1611, 2085, 973, 1920, ...</td>\n",
       "    </tr>\n",
       "    <tr>\n",
       "      <th>1</th>\n",
       "      <td>User2</td>\n",
       "      <td>[1, 154, 1022, 1925, 1263, 417, 228, 855, 664,...</td>\n",
       "    </tr>\n",
       "    <tr>\n",
       "      <th>2</th>\n",
       "      <td>User3</td>\n",
       "      <td>[968, 2614, 2573, 212, 2966, 1666, 638, 2206, ...</td>\n",
       "    </tr>\n",
       "    <tr>\n",
       "      <th>3</th>\n",
       "      <td>User4</td>\n",
       "      <td>[1996, 1306, 1231, 499, 1002, 2251, 1730, 124,...</td>\n",
       "    </tr>\n",
       "    <tr>\n",
       "      <th>4</th>\n",
       "      <td>User5</td>\n",
       "      <td>[1523, 2136, 442, 1733, 2880, 1756, 1442, 151,...</td>\n",
       "    </tr>\n",
       "  </tbody>\n",
       "</table>\n",
       "</div>"
      ],
      "text/plain": [
       "    name                                              likes\n",
       "0  User1  [1207, 445, 140, 2259, 1611, 2085, 973, 1920, ...\n",
       "1  User2  [1, 154, 1022, 1925, 1263, 417, 228, 855, 664,...\n",
       "2  User3  [968, 2614, 2573, 212, 2966, 1666, 638, 2206, ...\n",
       "3  User4  [1996, 1306, 1231, 499, 1002, 2251, 1730, 124,...\n",
       "4  User5  [1523, 2136, 442, 1733, 2880, 1756, 1442, 151,..."
      ]
     },
     "execution_count": 1,
     "metadata": {},
     "output_type": "execute_result"
    }
   ],
   "source": [
    "import pandas as pd\n",
    "import ast  # For safely evaluating string representations of lists\n",
    "\n",
    "# Load quotes and users data\n",
    "users_df = pd.read_csv('users.csv')\n",
    "users_df = pd.read_csv('users_tags.csv')\n",
    "# Safely convert 'likes' column (string representation of list) to actual lists\n",
    "users_df['likes'] = users_df['likes'].apply(ast.literal_eval)\n",
    "\n",
    "users_df.head() # Verify the likes column is properly converted\n"
   ]
  },
  {
   "cell_type": "code",
   "execution_count": 2,
   "metadata": {},
   "outputs": [],
   "source": [
    "transactions = users_df['likes'].tolist()"
   ]
  },
  {
   "cell_type": "code",
   "execution_count": null,
   "metadata": {},
   "outputs": [],
   "source": [
    "from mlxtend.frequent_patterns import apriori, association_rules\n",
    "from mlxtend.preprocessing import TransactionEncoder\n",
    "\n",
    "# Transform transactions into one-hot encoded format\n",
    "te = TransactionEncoder()\n",
    "te_ary = te.fit(transactions).transform(transactions)\n",
    "df_onehot = pd.DataFrame(te_ary, columns=te.columns_)\n",
    "\n",
    "# Apply Apriori to find frequent itemsets\n",
    "frequent_itemsets = apriori(df_onehot, min_support=0.01, use_colnames=True)\n",
    "\n",
    "# Generate association rules\n",
    "num_freq_itemsets = frequent_itemsets.shape[0]\n",
    "rules = association_rules(frequent_itemsets,num_freq_itemsets, metric=\"confidence\", min_threshold=0.5, support_only=False)\n",
    "\n",
    "# Display rules\n",
    "print(rules[['antecedents', 'consequents', 'support', 'confidence', 'lift']])\n",
    "\n"
   ]
  },
  {
   "cell_type": "code",
   "execution_count": null,
   "metadata": {},
   "outputs": [
    {
     "name": "stdout",
     "output_type": "stream",
     "text": [
      "Recommended quotes for User1: [641, 615, 684, 209, 601]\n"
     ]
    }
   ],
   "source": [
    "def recommend_quotes(user_likes, rules):\n",
    "    # Filter rules based on user's liked quotes\n",
    "    recommendations = []\n",
    "    for _, rule in rules.iterrows():\n",
    "        if set(rule['antecedents']).issubset(user_likes):\n",
    "            recommendations.extend(rule['consequents'])\n",
    "\n",
    "    # Remove quotes the user already likes\n",
    "    recommendations = set(recommendations) - set(user_likes)\n",
    "    return list(recommendations)\n",
    "\n",
    "# Example: Recommend quotes for User1\n",
    "user_likes = users_df.loc[users_df['name'] == 'User12', 'likes'].values[0]\n",
    "recommendations = recommend_quotes(user_likes, rules)\n",
    "print(\"Recommended quotes for User1:\", recommendations)\n"
   ]
  }
 ],
 "metadata": {
  "kernelspec": {
   "display_name": "venv",
   "language": "python",
   "name": "python3"
  },
  "language_info": {
   "codemirror_mode": {
    "name": "ipython",
    "version": 3
   },
   "file_extension": ".py",
   "mimetype": "text/x-python",
   "name": "python",
   "nbconvert_exporter": "python",
   "pygments_lexer": "ipython3",
   "version": "3.12.6"
  }
 },
 "nbformat": 4,
 "nbformat_minor": 2
}
